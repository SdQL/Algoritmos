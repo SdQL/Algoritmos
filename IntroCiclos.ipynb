{
  "nbformat": 4,
  "nbformat_minor": 0,
  "metadata": {
    "colab": {
      "name": "IntroCiclos.ipynb",
      "provenance": [],
      "collapsed_sections": [],
      "include_colab_link": true
    },
    "kernelspec": {
      "name": "python3",
      "display_name": "Python 3"
    },
    "language_info": {
      "name": "python"
    }
  },
  "cells": [
    {
      "cell_type": "markdown",
      "metadata": {
        "id": "view-in-github",
        "colab_type": "text"
      },
      "source": [
        "<a href=\"https://colab.research.google.com/github/U-F-Os/Algoritmos/blob/main/IntroCiclos.ipynb\" target=\"_parent\"><img src=\"https://colab.research.google.com/assets/colab-badge.svg\" alt=\"Open In Colab\"/></a>"
      ]
    },
    {
      "cell_type": "markdown",
      "source": [
        "**INTRODUCCIÓN A LOS CICLOS**\n",
        "\n",
        "A continuación veremos cómo funciona el ciclo Mientras o While:"
      ],
      "metadata": {
        "id": "a49Z-AAlbs1I"
      }
    },
    {
      "cell_type": "code",
      "source": [
        "\n",
        "lista=[]\n",
        "i=1\n",
        "while i <=10:\n",
        "  lista.append(i)\n",
        "  i=i+1\n",
        "print(lista)"
      ],
      "metadata": {
        "colab": {
          "base_uri": "https://localhost:8080/"
        },
        "id": "fc88p0pZcFUk",
        "outputId": "175d89e7-a79d-4563-b902-996be91206b7"
      },
      "execution_count": null,
      "outputs": [
        {
          "output_type": "stream",
          "name": "stdout",
          "text": [
            "[1, 2, 3, 4, 5, 6, 7, 8, 9, 10]\n"
          ]
        }
      ]
    },
    {
      "cell_type": "markdown",
      "source": [
        "A continuación movemos el primer número de la lista a la cola:"
      ],
      "metadata": {
        "id": "PRTfXIOOpF1u"
      }
    },
    {
      "cell_type": "code",
      "source": [
        "lista= [1, 2, 3, 4, 5, 6, 7, 8, 9, 10]\n",
        "i=0\n",
        "for i in range(0,1):\n",
        "  lista.insert(-1, lista.pop(0))\n",
        "print(lista)"
      ],
      "metadata": {
        "id": "IT_9sX8UpLN8"
      },
      "execution_count": null,
      "outputs": []
    },
    {
      "cell_type": "markdown",
      "source": [
        "A continuación movemos el siguiente número de la lista a la cola:"
      ],
      "metadata": {
        "id": "rswS8JYBtdyw"
      }
    },
    {
      "cell_type": "markdown",
      "source": [
        "Ejercicio 2\n",
        "Generamos una matriz aleatoria\n"
      ],
      "metadata": {
        "id": "cOlrOC01MivG"
      }
    },
    {
      "cell_type": "code",
      "source": [
        "from random import *\n",
        "filas=10\n",
        "columnas=10\n",
        "\n",
        "matriz=[[randint(10,99) for i in range(filas)] for j in  range(columnas)]\n",
        "#Ahora vamos a recorrer la matriz y buscar los elementos mayor y menor\n",
        "\n",
        "posmayor=''\n",
        "posmenor=''\n",
        "mayor = matriz[0][0]\n",
        "menor = matriz[0][0]\n",
        "for f in range(filas):\n",
        "  for c in range(columnas):\n",
        "    print(matriz[f][c], end='|')\n",
        "    if matriz[f][c] > mayor:\n",
        "      mayor= matriz[f][c]\n",
        "      posmayor=str([f]+[c])\n",
        "    if matriz[f][c] < menor:\n",
        "      menor = matriz[f][c]\n",
        "      posmenor=str([f]+[c])\n",
        "  print()#partimos la salida para que se vea como fila\n",
        "\n",
        "print()\n",
        "print('El mayor es',mayor,\"en la posición: \",posmayor)\n",
        "print('El menor es',menor,\"en la posición: \",posmenor)\n",
        "\n"
      ],
      "metadata": {
        "colab": {
          "base_uri": "https://localhost:8080/"
        },
        "id": "IXlP-GKLMs_Q",
        "outputId": "239c96b2-a8df-4d1c-83d5-8c354b914d6d"
      },
      "execution_count": null,
      "outputs": [
        {
          "output_type": "stream",
          "name": "stdout",
          "text": [
            "84|53|81|51|52|63|89|83|61|13|\n",
            "37|70|40|67|29|74|67|61|56|88|\n",
            "87|99|81|35|30|61|62|54|71|45|\n",
            "79|41|84|79|67|52|55|99|43|87|\n",
            "57|85|13|24|57|12|12|41|89|86|\n",
            "31|34|60|24|22|37|43|61|81|77|\n",
            "67|91|11|21|91|44|71|54|80|29|\n",
            "75|28|95|64|65|18|78|44|38|34|\n",
            "34|36|94|59|49|52|87|37|51|50|\n",
            "12|95|77|85|40|91|60|63|28|99|\n",
            "\n",
            "El mayor es 99 en la posición:  [2, 1]\n",
            "El menor es 11 en la posición:  [6, 2]\n"
          ]
        }
      ]
    },
    {
      "cell_type": "markdown",
      "source": [
        "Ejercicio 3 Gneramos una matriz aleatoria"
      ],
      "metadata": {
        "id": "al_vCMk5ZVUx"
      }
    },
    {
      "cell_type": "code",
      "source": [
        "from random import *\n",
        "filas=10\n",
        "columnas=10\n",
        "\n",
        "matriz=[[randint(10,99) for i in range(filas)] for j in  range(columnas)]\n",
        "\n",
        "for f in range(filas):\n",
        "  for c in range(columnas):\n",
        "    print(matriz[f][c], end=' | ')\n",
        "  print()\n",
        "\n",
        "print()\n",
        "#Creamos una funcion que se encarga de sumar las columnas y la invocamos\n",
        "sumaColumnas = lambda matriz: [sum(i) for i in zip(*matriz)]\n",
        "print(\"Las sumas de las columnas son: \")\n",
        "sumaColumnas(matriz)\n"
      ],
      "metadata": {
        "id": "IJgzvfiVZdFX",
        "outputId": "1b16528c-b0ed-4100-922b-b033a76d850c",
        "colab": {
          "base_uri": "https://localhost:8080/"
        }
      },
      "execution_count": null,
      "outputs": [
        {
          "output_type": "stream",
          "name": "stdout",
          "text": [
            "82 | 35 | 32 | 85 | 55 | 14 | 92 | 35 | 89 | 86 | \n",
            "34 | 59 | 85 | 76 | 20 | 37 | 22 | 74 | 47 | 24 | \n",
            "76 | 93 | 98 | 47 | 80 | 82 | 22 | 23 | 87 | 82 | \n",
            "21 | 72 | 32 | 25 | 42 | 11 | 66 | 41 | 23 | 53 | \n",
            "53 | 10 | 69 | 93 | 74 | 69 | 54 | 52 | 89 | 73 | \n",
            "41 | 39 | 18 | 38 | 70 | 20 | 73 | 79 | 63 | 67 | \n",
            "19 | 20 | 18 | 98 | 21 | 80 | 11 | 45 | 80 | 25 | \n",
            "93 | 94 | 75 | 21 | 79 | 24 | 73 | 55 | 10 | 73 | \n",
            "12 | 32 | 41 | 81 | 26 | 57 | 24 | 54 | 86 | 97 | \n",
            "87 | 59 | 70 | 72 | 85 | 54 | 96 | 15 | 11 | 33 | \n",
            "\n",
            "Las sumas de las columnas son: \n"
          ]
        },
        {
          "output_type": "execute_result",
          "data": {
            "text/plain": [
              "[518, 513, 538, 636, 552, 448, 533, 473, 585, 613]"
            ]
          },
          "metadata": {},
          "execution_count": 11
        }
      ]
    }
  ]
}